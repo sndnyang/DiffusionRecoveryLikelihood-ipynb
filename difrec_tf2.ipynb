{
  "cells": [
    {
      "attachments": {},
      "cell_type": "markdown",
      "metadata": {},
      "source": [
        "<a href=\"https://colab.research.google.com/github/sndnyang/DiffusionRecoveryLikelihood-ipynb/blob/master/difrec_tf2.ipynb\" target=\"_parent\"><img src=\"https://colab.research.google.com/assets/colab-badge.svg\" alt=\"Open In Colab\"/></a>\n"
      ]
    },
    {
      "cell_type": "code",
      "execution_count": 1,
      "metadata": {
        "colab": {
          "base_uri": "https://localhost:8080/"
        },
        "id": "WnRrseb5sGyK",
        "outputId": "e9e4b931-6ef9-4716-94c2-9a9f008e102b"
      },
      "outputs": [
        {
          "name": "stdout",
          "output_type": "stream",
          "text": [
            "Looking in indexes: https://pypi.org/simple, https://us-python.pkg.dev/colab-wheels/public/simple/\n",
            "Requirement already satisfied: tensorflow-addons in /usr/local/lib/python3.8/dist-packages (0.19.0)\n",
            "Requirement already satisfied: tensorflow_io in /usr/local/lib/python3.8/dist-packages (0.30.0)\n",
            "Requirement already satisfied: tensorflow-gan in /usr/local/lib/python3.8/dist-packages (2.1.0)\n",
            "Requirement already satisfied: scikit-learn in /usr/local/lib/python3.8/dist-packages (1.0.2)\n",
            "Requirement already satisfied: packaging in /usr/local/lib/python3.8/dist-packages (from tensorflow-addons) (21.3)\n",
            "Requirement already satisfied: typeguard>=2.7 in /usr/local/lib/python3.8/dist-packages (from tensorflow-addons) (2.7.1)\n",
            "Requirement already satisfied: tensorflow-io-gcs-filesystem==0.30.0 in /usr/local/lib/python3.8/dist-packages (from tensorflow_io) (0.30.0)\n",
            "Requirement already satisfied: tensorflow-probability>=0.7 in /usr/local/lib/python3.8/dist-packages (from tensorflow-gan) (0.17.0)\n",
            "Requirement already satisfied: tensorflow-hub>=0.2 in /usr/local/lib/python3.8/dist-packages (from tensorflow-gan) (0.12.0)\n",
            "Requirement already satisfied: scipy>=1.1.0 in /usr/local/lib/python3.8/dist-packages (from scikit-learn) (1.7.3)\n",
            "Requirement already satisfied: joblib>=0.11 in /usr/local/lib/python3.8/dist-packages (from scikit-learn) (1.2.0)\n",
            "Requirement already satisfied: numpy>=1.14.6 in /usr/local/lib/python3.8/dist-packages (from scikit-learn) (1.21.6)\n",
            "Requirement already satisfied: threadpoolctl>=2.0.0 in /usr/local/lib/python3.8/dist-packages (from scikit-learn) (3.1.0)\n",
            "Requirement already satisfied: protobuf>=3.8.0 in /usr/local/lib/python3.8/dist-packages (from tensorflow-hub>=0.2->tensorflow-gan) (3.19.6)\n",
            "Requirement already satisfied: absl-py in /usr/local/lib/python3.8/dist-packages (from tensorflow-probability>=0.7->tensorflow-gan) (1.3.0)\n",
            "Requirement already satisfied: decorator in /usr/local/lib/python3.8/dist-packages (from tensorflow-probability>=0.7->tensorflow-gan) (4.4.2)\n",
            "Requirement already satisfied: gast>=0.3.2 in /usr/local/lib/python3.8/dist-packages (from tensorflow-probability>=0.7->tensorflow-gan) (0.4.0)\n",
            "Requirement already satisfied: dm-tree in /usr/local/lib/python3.8/dist-packages (from tensorflow-probability>=0.7->tensorflow-gan) (0.1.8)\n",
            "Requirement already satisfied: six>=1.10.0 in /usr/local/lib/python3.8/dist-packages (from tensorflow-probability>=0.7->tensorflow-gan) (1.15.0)\n",
            "Requirement already satisfied: cloudpickle>=1.3 in /usr/local/lib/python3.8/dist-packages (from tensorflow-probability>=0.7->tensorflow-gan) (2.2.0)\n",
            "Requirement already satisfied: pyparsing!=3.0.5,>=2.0.2 in /usr/local/lib/python3.8/dist-packages (from packaging->tensorflow-addons) (3.0.9)\n"
          ]
        }
      ],
      "source": [
        "!pip install tensorflow-addons tensorflow_io tensorflow-gan scikit-learn"
      ]
    },
    {
      "cell_type": "code",
      "execution_count": 2,
      "metadata": {
        "id": "FeprQBcEDdiU"
      },
      "outputs": [],
      "source": [
        "%load_ext autoreload\n",
        "%autoreload 2"
      ]
    },
    {
      "cell_type": "code",
      "execution_count": 3,
      "metadata": {
        "colab": {
          "base_uri": "https://localhost:8080/"
        },
        "id": "9H_5ZRq9rzw8",
        "outputId": "f021215a-8108-4876-f3be-13b17731d7f5"
      },
      "outputs": [
        {
          "name": "stderr",
          "output_type": "stream",
          "text": [
            "WARNING:tensorflow:From /usr/local/lib/python3.8/dist-packages/tensorflow_gan/python/estimator/tpu_gan_estimator.py:42: The name tf.estimator.tpu.TPUEstimator is deprecated. Please use tf.compat.v1.estimator.tpu.TPUEstimator instead.\n",
            "\n"
          ]
        }
      ],
      "source": [
        "import pygrid as pygrid\n",
        "from train_utils import *\n",
        "from train import Trainer"
      ]
    },
    {
      "cell_type": "code",
      "execution_count": 4,
      "metadata": {
        "id": "8iJI_vGutZP2"
      },
      "outputs": [],
      "source": [
        "hps = AttrDict(get_flag_dict())"
      ]
    },
    {
      "cell_type": "code",
      "execution_count": 5,
      "metadata": {
        "id": "5QEd4oZgsCpN"
      },
      "outputs": [],
      "source": [
        "LARGE_DATASETS = [\"celebahq128\", \"lsun_bedroom128\", \"lsun_bedroom64\", 'lsun_church128', 'lsun_church64', 'celeba']\n",
        "exp_id = '111'\n",
        "output_dir = './log'\n"
      ]
    },
    {
      "cell_type": "code",
      "execution_count": 6,
      "metadata": {
        "colab": {
          "base_uri": "https://localhost:8080/"
        },
        "id": "pxCBB6FytoMR",
        "outputId": "181087ee-066f-4173-9acc-b4a1707557cc"
      },
      "outputs": [
        {
          "name": "stderr",
          "output_type": "stream",
          "text": [
            "WARNING:tensorflow:From /content/train_utils.py:184: experimental_run_functions_eagerly (from tensorflow.python.eager.def_function) is deprecated and will be removed in a future version.\n",
            "Instructions for updating:\n",
            "Use `tf.config.run_functions_eagerly` instead of the experimental version.\n"
          ]
        }
      ],
      "source": [
        "init_tf2(tf_eager=hps.eager, tf_memory_growth=True)"
      ]
    },
    {
      "cell_type": "code",
      "execution_count": 18,
      "metadata": {
        "id": "ls0Mezqoturs"
      },
      "outputs": [],
      "source": [
        "hps['num_res_blocks'] = 2\n",
        "hps['num_diffusion_timesteps'] = 500\n",
        "hps['mcmc_num_steps'] = 0\n",
        "hps['output'] = './output'"
      ]
    },
    {
      "cell_type": "code",
      "execution_count": 19,
      "metadata": {
        "id": "GSTP7sYdt_4r"
      },
      "outputs": [],
      "source": [
        "strategy = None\n",
        "model = Trainer(hps=hps)\n",
        "\n",
        "set_seed(hps.rnd_seed)"
      ]
    },
    {
      "cell_type": "code",
      "execution_count": 20,
      "metadata": {
        "colab": {
          "base_uri": "https://localhost:8080/"
        },
        "id": "GJLlV7gDuCJ6",
        "outputId": "b62f449e-f7c6-49e7-e70a-948e3f6bc486"
      },
      "outputs": [
        {
          "name": "stderr",
          "output_type": "stream",
          "text": [
            "INFO:job0:gpus=0\n",
            "INFO:job0:{'logtostderr': False, 'alsologtostderr': False, 'log_dir': '', 'v': -1, 'verbosity': -1, 'logger_levels': {}, 'stderrthreshold': 'fatal', 'showprefixforinfo': True, 'run_with_pdb': False, 'pdb_post_mortem': False, 'pdb': None, 'run_with_profiling': False, 'profile_file': None, 'use_cprofile_for_profiling': True, 'only_check_args': False, 'op_conversion_fallback_to_while_loop': True, 'runtime_oom_exit': True, 'hbm_oom_exit': True, 'test_srcdir': '', 'test_tmpdir': '/tmp/absl_testing', 'test_random_seed': 301, 'test_randomize_ordering_seed': '', 'xml_output_file': '', 'jobid': 0, 'logdir': '', 'eager': False, 'ckpt_load': None, 'device': '0', 'tpu': False, 'tpu_name': None, 'tpu_zone': None, 'rnd_seed': 1, 'problem': 'cifar10', 'n_batch_train': 64, 'lr': 0.0001, 'beta_1': 0.9, 'n_iters': 1000000, 'grad_clip': False, 'warmup': 1000, 'n_batch_per_iter': 1, 'cosine_decay': False, 'opt': 'adam', 'eval': False, 'include_xpred_freq': 1, 'eval_fid': False, 'fid_n_samples': 64, 'fid_n_iters': 40000, 'fid_n_batch': 64, 'num_res_blocks': 2, 'num_diffusion_timesteps': 500, 'randflip': True, 'dropout': 0.0, 'normalize': None, 'act': 'lrelu', 'final_act': 'relu', 'use_attention': False, 'resamp_with_conv': False, 'spec_norm': True, 'res_conv_shortcut': True, 'res_use_scale': True, 'ma_decay': 0.999, 'noise_scale': 1.0, 'mcmc_num_steps': 0, 'mcmc_step_size_b_square': 0.0002, 'tfds_debug_list_dir': False, 'tfhub_cache_dir': None, 'tfhub_model_load_format': 'AUTO', 'output': './output', 'img_sz': 32}\n",
            "INFO:job0:output dir ./output\n",
            "INFO:job0:========== begin training =========\n",
            "INFO:job0:dir=log i=     0 loss=  0.0026 learning grads mean=  0.0009 grads max=  0.0301 disp=0.0, 0.0, 0.0, 0.0, 0.0, 0.0, 0.0, 0.0, 0.0, 0.243, 0.0 loss_ts=0.0, 0.0, 0.0, 0.0, 0.0, 0.0, 0.0, 0.0, 0.0, 0.002, 0.0 f_ts=0.0, 0.0, 0.0, 0.0, 0.0, 0.0, 0.0, 0.0, 0.0, 0.307, 0.0 is_accepted_ts=     nan lr=0.00000010 time=15.08s\n",
            "INFO:job0:early exit due to explosion of loss\n",
            "INFO:job0:done\n"
          ]
        }
      ],
      "source": [
        "model.train(output_dir, output_dir, output_dir, strategy)\n"
      ]
    },
    {
      "cell_type": "code",
      "execution_count": 11,
      "metadata": {
        "colab": {
          "base_uri": "https://localhost:8080/"
        },
        "id": "gCYmrx1L_w0b",
        "outputId": "016b8c8a-bdcd-42a8-e75d-43691be05fd5"
      },
      "outputs": [
        {
          "name": "stdout",
          "output_type": "stream",
          "text": [
            "None\n"
          ]
        }
      ],
      "source": [
        "class normalize(tf.keras.layers.Layer):\n",
        "  def __init__(self, name, *args, **kwargs):\n",
        "    super(normalize, self).__init__(name=name)\n",
        "    self.normalize = kwargs['normalize']\n",
        "    self.norm = None\n",
        "    \n",
        "print(hps.normalize)\n",
        "normalize_out = normalize(name='norm_out', normalize=hps.normalize)"
      ]
    }
  ],
  "metadata": {
    "accelerator": "GPU",
    "colab": {
      "provenance": []
    },
    "gpuClass": "standard",
    "kernelspec": {
      "display_name": "base",
      "language": "python",
      "name": "python3"
    },
    "language_info": {
      "name": "python",
      "version": "3.8.8 (default, Apr 13 2021, 15:08:03) [MSC v.1916 64 bit (AMD64)]"
    },
    "vscode": {
      "interpreter": {
        "hash": "83893ed8ab2f7255fca62e454031b1e5cdc52831ef9a8084c39c59e4ac6d9f46"
      }
    }
  },
  "nbformat": 4,
  "nbformat_minor": 0
}
